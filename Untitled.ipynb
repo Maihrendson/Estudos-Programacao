{
  "nbformat": 4,
  "nbformat_minor": 0,
  "metadata": {
    "colab": {
      "provenance": [],
      "authorship_tag": "ABX9TyM9QJYNyj7ZS1RFbHOi25e2",
      "include_colab_link": true
    },
    "kernelspec": {
      "name": "python3",
      "display_name": "Python 3"
    },
    "language_info": {
      "name": "python"
    }
  },
  "cells": [
    {
      "cell_type": "markdown",
      "metadata": {
        "id": "view-in-github",
        "colab_type": "text"
      },
      "source": [
        "<a href=\"https://colab.research.google.com/github/Maihrendson/Estudos-Programacao/blob/main/Untitled.ipynb\" target=\"_parent\"><img src=\"https://colab.research.google.com/assets/colab-badge.svg\" alt=\"Open In Colab\"/></a>"
      ]
    },
    {
      "cell_type": "code",
      "source": [
        "print(\"O primeiro codigo de muitos\"):"
      ],
      "metadata": {
        "colab": {
          "base_uri": "https://localhost:8080/"
        },
        "id": "D_3Ps7y5QjW4",
        "outputId": "4d415133-5dab-46ad-d09d-d3a6e33ccbe7"
      },
      "execution_count": 1,
      "outputs": [
        {
          "output_type": "stream",
          "name": "stdout",
          "text": [
            "O primeiro codigo de muitos\n"
          ]
        }
      ]
    },
    {
      "cell_type": "code",
      "source": [
        "carros = []\n",
        "while True:\n",
        "  carro = (input(\"insira o nome do carro: \"))\n",
        "  if carro == \"0\":\n",
        "    break\n",
        "  carros.append(carro)\n",
        "\n",
        "print(carros)\n",
        "print(len(carros))"
      ],
      "metadata": {
        "id": "3SqbxZ3oYZ8o"
      },
      "execution_count": null,
      "outputs": []
    },
    {
      "cell_type": "code",
      "source": [
        "frutas = [\"morango\", \"banana\", \"laranja\",\"limão\",\"lima\"]\n",
        "print(frutas)"
      ],
      "metadata": {
        "id": "DDeUakwbSfuD"
      },
      "execution_count": null,
      "outputs": []
    },
    {
      "cell_type": "code",
      "source": [
        "frutas = [\"morango\", \"banana\", \"laranja\",\"limão\",\"lima\",\"pera\",\"pera\",\"uva\",\"uva\"]\n",
        "print(frutas.count(\"banana\"))"
      ],
      "metadata": {
        "id": "0J5UIbWJTLiE"
      },
      "execution_count": null,
      "outputs": []
    },
    {
      "cell_type": "code",
      "source": [
        "lista = ['jaca','melao','banana','uva','pera',' graviola','abacaxi']\n",
        "fruta_remover = 'uva' and 'banana'\n",
        "lista = [x for x in lista if x != fruta_remover]\n",
        "print(lista)"
      ],
      "metadata": {
        "colab": {
          "base_uri": "https://localhost:8080/"
        },
        "id": "jhYple76du1e",
        "outputId": "898e615b-713b-4c40-c6b9-f677dcc12c72"
      },
      "execution_count": 77,
      "outputs": [
        {
          "output_type": "stream",
          "name": "stdout",
          "text": [
            "['jaca', 'melao', 'uva', 'pera', ' graviola', 'abacaxi']\n"
          ]
        }
      ]
    },
    {
      "cell_type": "code",
      "source": [
        "notas = [6, 8, 5, 4, 7, 7, 9, 3, 6,]\n",
        "notas = [x for x in notas if x >= 7]\n",
        "print(notas)"
      ],
      "metadata": {
        "colab": {
          "base_uri": "https://localhost:8080/"
        },
        "id": "ruWdf-oThpdw",
        "outputId": "98326572-446c-4c76-aa1a-fa0a0431243a"
      },
      "execution_count": 78,
      "outputs": [
        {
          "output_type": "stream",
          "name": "stdout",
          "text": [
            "[8, 7, 7, 9]\n"
          ]
        }
      ]
    },
    {
      "cell_type": "code",
      "source": [
        "lista = [\"maçã\",\"banana\",\"laranja\"]\n",
        "indice = lista.index(\"banana\")\n",
        "print(lista)\n",
        "print(indice)"
      ],
      "metadata": {
        "colab": {
          "base_uri": "https://localhost:8080/"
        },
        "id": "EwDxlTKVevZP",
        "outputId": "ca3178d7-acce-4464-acae-7975845f4acb"
      },
      "execution_count": 73,
      "outputs": [
        {
          "output_type": "stream",
          "name": "stdout",
          "text": [
            "['maçã', 'banana', 'laranja']\n",
            "1\n"
          ]
        }
      ]
    },
    {
      "cell_type": "code",
      "source": [
        "print(len(frutas))"
      ],
      "metadata": {
        "collapsed": true,
        "id": "h9w05LNiSzkx"
      },
      "execution_count": null,
      "outputs": []
    },
    {
      "cell_type": "code",
      "execution_count": null,
      "metadata": {
        "id": "SfvR23X94wXy",
        "collapsed": true
      },
      "outputs": [],
      "source": [
        "Valor_compra = int(input('Qual valor da compra? '))\n",
        "\n",
        "Valor_compra = 200\n",
        "\n",
        "if Valor_compra >= 1000:\n",
        "  print(Valor_compra * 0.3)\n",
        "elif Valor_compra >= 500:\n",
        "  print(Valor_compra * 0.2)\n",
        "elif Valor_compra >= 100:\n",
        "  print(Valor_compra * 0.1)\n",
        "else:\n",
        "  print('Sem desconto otário')"
      ]
    },
    {
      "cell_type": "code",
      "source": [
        "  Num1 = float(input('Digite o valor do numero: '))\n",
        "  Num2 = float(input('Digite o valor do numero: '))\n",
        "\n",
        "  print(Num1 + Num2)"
      ],
      "metadata": {
        "collapsed": true,
        "id": "fR10aZOQ7W3P"
      },
      "execution_count": null,
      "outputs": []
    },
    {
      "cell_type": "code",
      "source": [
        "Impar_par = (input('impar-par:'))\n",
        "\n",
        "if Impar_par in (\"2,4,6,8,10\") :\n",
        "  print('brino win')\n",
        "\n",
        "if Impar_par in (\"1,3,5,7,9\") :\n",
        "  print('felca win')"
      ],
      "metadata": {
        "id": "pNs-Y5IQ9c9f"
      },
      "execution_count": null,
      "outputs": []
    },
    {
      "cell_type": "code",
      "source": [
        "Lista_Aprovados = int(input('Digite a sua nota:   '))\n",
        "\n",
        "if Lista_Aprovados >= 7:\n",
        "  print('Parabéns você foi aprovado!! ')\n",
        "elif Lista_Aprovados >=4:\n",
        "  print('Estude mais!! você está de recuperação. ')\n",
        "else:\n",
        "  print('Você foi reprovado!! ')"
      ],
      "metadata": {
        "id": "HH-CTG_HLIlY"
      },
      "execution_count": null,
      "outputs": []
    },
    {
      "cell_type": "code",
      "source": [
        "media1 = int(input('Digite a sua nota:   '))\n",
        "media2 = int(input('Digite a sua nota:   '))\n",
        "media3 = int(input('Digite a sua nota:   '))\n",
        "\n",
        "media = ((media1 + media2 + media3) /3)\n",
        "\n",
        "if media >= 7:\n",
        "  print('Parabéns você foi aprovado!! ')\n",
        "elif media >=4:\n",
        "  print('Estude mais!! você está de recuperação. ')\n",
        "else:\n",
        "  print('Você foi reprovado!! ')"
      ],
      "metadata": {
        "id": "OYhr40rjLGps"
      },
      "execution_count": null,
      "outputs": []
    },
    {
      "cell_type": "code",
      "source": [
        "num = int(input('Qual numero voce jogou?: '))\n",
        "\n",
        "if num % 2 == 0:\n",
        "  print('Deu par!!')\n",
        "\n",
        "else:\n",
        "  print('Deu impar!!')"
      ],
      "metadata": {
        "id": "w18N5gYBMw0W"
      },
      "execution_count": null,
      "outputs": []
    },
    {
      "cell_type": "code",
      "source": [
        "Num1 = int(input('Qual seu primeiro número? '))\n",
        "Num2 = int(input('Qual seu segundo número? '))\n",
        "\n",
        "if Num1 > Num2:\n",
        "  print(f\"{Num1} É maior que {Num2}\")\n",
        "elif Num1 < Num2:\n",
        "  print(f\"{Num2} É maior que {Num1}\")\n",
        "else:\n",
        "  print(f\"{Num1} É igual a {Num2}\")"
      ],
      "metadata": {
        "id": "0-2YTcmQNMe2"
      },
      "execution_count": null,
      "outputs": []
    },
    {
      "cell_type": "code",
      "source": [
        "contador = 1\n",
        "while contador <= 20:\n",
        "  print(contador)\n",
        "  contador = contador + 1"
      ],
      "metadata": {
        "collapsed": true,
        "id": "QIrF6PCiTttO"
      },
      "execution_count": null,
      "outputs": []
    },
    {
      "cell_type": "code",
      "source": [
        "contador = 10\n",
        "while contador >= 1:\n",
        "  print(contador)\n",
        "  contador = contador - 1"
      ],
      "metadata": {
        "id": "8AFfuF14Vaom"
      },
      "execution_count": null,
      "outputs": []
    },
    {
      "cell_type": "code",
      "source": [
        "contador = 1\n",
        "while contador < 10:\n",
        "  contador += 1\n",
        "  if contador % 2 == 0:\n",
        "    print(contador)"
      ],
      "metadata": {
        "id": "0i_4sRSBVyU_"
      },
      "execution_count": null,
      "outputs": []
    },
    {
      "cell_type": "code",
      "source": [
        "num = int(input(\"digite um numero: \"))\n",
        "\n",
        "while num != 0:\n",
        "  print(num**2)\n",
        "  num = int(input(\"digite um numero novamente: \"))\n",
        "\n"
      ],
      "metadata": {
        "id": "ofmngh1tZA0W"
      },
      "execution_count": null,
      "outputs": []
    },
    {
      "cell_type": "code",
      "source": [
        "while True:\n",
        "  num = int(input('Insira um número: '))\n",
        "  if num == 0:\n",
        "    break\n",
        "  print(num**2)"
      ],
      "metadata": {
        "id": "l_Y1l9g3bhxr"
      },
      "execution_count": null,
      "outputs": []
    },
    {
      "cell_type": "code",
      "source": [
        "for numero in range(1, 11):\n",
        "  print(numero)"
      ],
      "metadata": {
        "id": "ykEuk_PvdI6n"
      },
      "execution_count": null,
      "outputs": []
    },
    {
      "cell_type": "code",
      "source": [
        "for numero in range(10, 0, -1):\n",
        "  print(numero)"
      ],
      "metadata": {
        "id": "HkCcJUz4d0B5"
      },
      "execution_count": null,
      "outputs": []
    },
    {
      "cell_type": "code",
      "source": [
        "for numero in range(1, 21):\n",
        "  print(numero)"
      ],
      "metadata": {
        "id": "4BvK7kuxeF2M"
      },
      "execution_count": null,
      "outputs": []
    },
    {
      "cell_type": "code",
      "source": [
        "soma = 0\n",
        "\n",
        "for numero in range(1, 101):\n",
        "  soma += numero\n",
        "\n",
        "  print(soma)"
      ],
      "metadata": {
        "id": "1GMGpM3aeR_0"
      },
      "execution_count": null,
      "outputs": []
    },
    {
      "cell_type": "code",
      "source": [
        "for numero in range(1, 11):\n",
        "  if numero % 2 != 0:\n",
        "    print(numero)"
      ],
      "metadata": {
        "id": "5keUBVYOe1QC"
      },
      "execution_count": null,
      "outputs": []
    },
    {
      "cell_type": "code",
      "source": [
        "import random\n",
        "\n",
        "numero = random.randint(0,100)\n",
        "print(numero)"
      ],
      "metadata": {
        "id": "P76RFBiyiQxG"
      },
      "execution_count": null,
      "outputs": []
    },
    {
      "cell_type": "code",
      "source": [
        "print(\"MENU\")\n",
        "print(f\"1.Adicionar Tarefa\\n2.Remover Tarefa\\n3.Listar Tarefas\\n4.Sair \")\n",
        "while True:\n",
        "  match input(\"Escolha uma opção: \"):\n",
        "    case \"1\":\n",
        "        task = (input(\"Adicionar Tarefa: \"))\n",
        "        print(\"Tarefa Adicionada \" +  task)\n",
        "        break\n",
        "    case \"2\":\n",
        "      print(\"Remover Tarefa: \" + task)\n",
        "      print(\"Tarefa Removida\")\n",
        "    case \"3\":\n",
        "      print(\"Listar Tarefas\")\n",
        "    case \"4\":\n",
        "      print(\"Sair\")\n",
        "      break"
      ],
      "metadata": {
        "colab": {
          "base_uri": "https://localhost:8080/"
        },
        "id": "HuQfWy8IjHOC",
        "outputId": "d89d1d1e-2a31-4e3a-84e1-39a05c59ebba"
      },
      "execution_count": null,
      "outputs": [
        {
          "output_type": "stream",
          "name": "stdout",
          "text": [
            "MENU\n",
            "1.Adicionar Tarefa\n",
            "2.Remover Tarefa\n",
            "3.Listar Tarefas\n",
            "4.Sair \n",
            "Escolha uma opção: 2\n",
            "Remover Tarefa: pular\n",
            "Tarefa Removida\n"
          ]
        }
      ]
    }
  ]
}