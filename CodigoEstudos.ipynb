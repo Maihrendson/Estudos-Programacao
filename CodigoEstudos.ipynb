{
  "cells": [
    {
      "cell_type": "markdown",
      "metadata": {
        "id": "view-in-github",
        "colab_type": "text"
      },
      "source": [
        "<a href=\"https://colab.research.google.com/github/Maihrendson/Estudos-Programacao/blob/main/CodigoEstudos.ipynb\" target=\"_parent\"><img src=\"https://colab.research.google.com/assets/colab-badge.svg\" alt=\"Open In Colab\"/></a>"
      ]
    },
    {
      "cell_type": "code",
      "execution_count": null,
      "metadata": {
        "id": "D_3Ps7y5QjW4"
      },
      "outputs": [],
      "source": [
        "print(\"O primeiro codigo de muitos\"):"
      ]
    },
    {
      "cell_type": "code",
      "execution_count": null,
      "metadata": {
        "id": "3SqbxZ3oYZ8o"
      },
      "outputs": [],
      "source": [
        "carros = []\n",
        "while True:\n",
        "  carro = (input(\"insira o nome do carro: \"))\n",
        "  if carro == \"0\":\n",
        "    break\n",
        "  carros.append(carro)\n",
        "\n",
        "print(carros)\n",
        "print(len(carros))"
      ]
    },
    {
      "cell_type": "code",
      "execution_count": null,
      "metadata": {
        "id": "DDeUakwbSfuD"
      },
      "outputs": [],
      "source": [
        "frutas = [\"morango\", \"banana\", \"laranja\",\"limão\",\"lima\"]\n",
        "print(frutas)"
      ]
    },
    {
      "cell_type": "code",
      "execution_count": null,
      "metadata": {
        "id": "0J5UIbWJTLiE"
      },
      "outputs": [],
      "source": [
        "frutas = [\"morango\", \"banana\", \"laranja\",\"limão\",\"lima\",\"pera\",\"pera\",\"uva\",\"uva\"]\n",
        "print(frutas.count(\"banana\"))"
      ]
    },
    {
      "cell_type": "code",
      "execution_count": null,
      "metadata": {
        "id": "jhYple76du1e"
      },
      "outputs": [],
      "source": [
        "lista = ['jaca','melao','banana','uva','pera',' graviola','abacaxi']\n",
        "fruta_remover = 'uva' and 'banana'\n",
        "lista = [x for x in lista if x != fruta_remover]\n",
        "print(lista)"
      ]
    },
    {
      "cell_type": "code",
      "execution_count": null,
      "metadata": {
        "id": "ruWdf-oThpdw"
      },
      "outputs": [],
      "source": [
        "notas = [6, 8, 5, 4, 7, 7, 9, 3, 6,]\n",
        "notas = [x for x in notas if x >= 7]\n",
        "print(notas)"
      ]
    },
    {
      "cell_type": "code",
      "execution_count": null,
      "metadata": {
        "id": "EwDxlTKVevZP"
      },
      "outputs": [],
      "source": [
        "lista = [\"maçã\",\"banana\",\"laranja\"]\n",
        "indice = lista.index(\"banana\")\n",
        "print(lista)\n",
        "print(indice)"
      ]
    },
    {
      "cell_type": "code",
      "execution_count": null,
      "metadata": {
        "collapsed": true,
        "id": "h9w05LNiSzkx"
      },
      "outputs": [],
      "source": [
        "print(len(frutas))"
      ]
    },
    {
      "cell_type": "code",
      "execution_count": null,
      "metadata": {
        "collapsed": true,
        "id": "SfvR23X94wXy"
      },
      "outputs": [],
      "source": [
        "Valor_compra = int(input('Qual valor da compra? '))\n",
        "\n",
        "Valor_compra = 200\n",
        "\n",
        "if Valor_compra >= 1000:\n",
        "  print(Valor_compra * 0.3)\n",
        "elif Valor_compra >= 500:\n",
        "  print(Valor_compra * 0.2)\n",
        "elif Valor_compra >= 100:\n",
        "  print(Valor_compra * 0.1)\n",
        "else:\n",
        "  print('Sem desconto otário')"
      ]
    },
    {
      "cell_type": "code",
      "execution_count": null,
      "metadata": {
        "collapsed": true,
        "id": "fR10aZOQ7W3P"
      },
      "outputs": [],
      "source": [
        "  Num1 = float(input('Digite o valor do numero: '))\n",
        "  Num2 = float(input('Digite o valor do numero: '))\n",
        "\n",
        "  print(Num1 + Num2)"
      ]
    },
    {
      "cell_type": "code",
      "execution_count": null,
      "metadata": {
        "id": "pNs-Y5IQ9c9f"
      },
      "outputs": [],
      "source": [
        "Impar_par = (input('impar-par:'))\n",
        "\n",
        "if Impar_par in (\"2,4,6,8,10\") :\n",
        "  print('brino win')\n",
        "\n",
        "if Impar_par in (\"1,3,5,7,9\") :\n",
        "  print('felca win')"
      ]
    },
    {
      "cell_type": "code",
      "execution_count": null,
      "metadata": {
        "id": "HH-CTG_HLIlY"
      },
      "outputs": [],
      "source": [
        "Lista_Aprovados = int(input('Digite a sua nota:   '))\n",
        "\n",
        "if Lista_Aprovados >= 7:\n",
        "  print('Parabéns você foi aprovado!! ')\n",
        "elif Lista_Aprovados >=4:\n",
        "  print('Estude mais!! você está de recuperação. ')\n",
        "else:\n",
        "  print('Você foi reprovado!! ')"
      ]
    },
    {
      "cell_type": "code",
      "execution_count": null,
      "metadata": {
        "id": "OYhr40rjLGps"
      },
      "outputs": [],
      "source": [
        "media1 = int(input('Digite a sua nota:   '))\n",
        "media2 = int(input('Digite a sua nota:   '))\n",
        "media3 = int(input('Digite a sua nota:   '))\n",
        "\n",
        "media = ((media1 + media2 + media3) /3)\n",
        "\n",
        "if media >= 7:\n",
        "  print('Parabéns você foi aprovado!! ')\n",
        "elif media >=4:\n",
        "  print('Estude mais!! você está de recuperação. ')\n",
        "else:\n",
        "  print('Você foi reprovado!! ')"
      ]
    },
    {
      "cell_type": "code",
      "execution_count": null,
      "metadata": {
        "id": "w18N5gYBMw0W"
      },
      "outputs": [],
      "source": [
        "num = int(input('Qual numero voce jogou?: '))\n",
        "\n",
        "if num % 2 == 0:\n",
        "  print('Deu par!!')\n",
        "\n",
        "else:\n",
        "  print('Deu impar!!')"
      ]
    },
    {
      "cell_type": "code",
      "execution_count": null,
      "metadata": {
        "id": "0-2YTcmQNMe2"
      },
      "outputs": [],
      "source": [
        "Num1 = int(input('Qual seu primeiro número? '))\n",
        "Num2 = int(input('Qual seu segundo número? '))\n",
        "\n",
        "if Num1 > Num2:\n",
        "  print(f\"{Num1} É maior que {Num2}\")\n",
        "elif Num1 < Num2:\n",
        "  print(f\"{Num2} É maior que {Num1}\")\n",
        "else:\n",
        "  print(f\"{Num1} É igual a {Num2}\")"
      ]
    },
    {
      "cell_type": "code",
      "execution_count": null,
      "metadata": {
        "collapsed": true,
        "id": "QIrF6PCiTttO"
      },
      "outputs": [],
      "source": [
        "contador = 1\n",
        "while contador <= 20:\n",
        "  print(contador)\n",
        "  contador = contador + 1"
      ]
    },
    {
      "cell_type": "code",
      "execution_count": null,
      "metadata": {
        "id": "8AFfuF14Vaom"
      },
      "outputs": [],
      "source": [
        "contador = 10\n",
        "while contador >= 1:\n",
        "  print(contador)\n",
        "  contador = contador - 1"
      ]
    },
    {
      "cell_type": "code",
      "execution_count": null,
      "metadata": {
        "id": "0i_4sRSBVyU_"
      },
      "outputs": [],
      "source": [
        "contador = 1\n",
        "while contador < 10:\n",
        "  contador += 1\n",
        "  if contador % 2 == 0:\n",
        "    print(contador)"
      ]
    },
    {
      "cell_type": "code",
      "execution_count": null,
      "metadata": {
        "id": "ofmngh1tZA0W"
      },
      "outputs": [],
      "source": [
        "num = int(input(\"digite um numero: \"))\n",
        "\n",
        "while num != 0:\n",
        "  print(num**2)\n",
        "  num = int(input(\"digite um numero novamente: \"))\n",
        "\n"
      ]
    },
    {
      "cell_type": "code",
      "execution_count": null,
      "metadata": {
        "id": "l_Y1l9g3bhxr"
      },
      "outputs": [],
      "source": [
        "while True:\n",
        "  num = int(input('Insira um número: '))\n",
        "  if num == 0:\n",
        "    break\n",
        "  print(num**2)"
      ]
    },
    {
      "cell_type": "code",
      "execution_count": null,
      "metadata": {
        "id": "ykEuk_PvdI6n"
      },
      "outputs": [],
      "source": [
        "for numero in range(1, 11):\n",
        "  print(numero)"
      ]
    },
    {
      "cell_type": "code",
      "execution_count": null,
      "metadata": {
        "id": "HkCcJUz4d0B5"
      },
      "outputs": [],
      "source": [
        "for numero in range(10, 0, -1):\n",
        "  print(numero)"
      ]
    },
    {
      "cell_type": "code",
      "execution_count": null,
      "metadata": {
        "id": "4BvK7kuxeF2M"
      },
      "outputs": [],
      "source": [
        "for numero in range(1, 21):\n",
        "  print(numero)"
      ]
    },
    {
      "cell_type": "code",
      "execution_count": null,
      "metadata": {
        "id": "1GMGpM3aeR_0"
      },
      "outputs": [],
      "source": [
        "soma = 0\n",
        "\n",
        "for numero in range(1, 101):\n",
        "  soma += numero\n",
        "\n",
        "  print(soma)"
      ]
    },
    {
      "cell_type": "code",
      "execution_count": null,
      "metadata": {
        "id": "5keUBVYOe1QC"
      },
      "outputs": [],
      "source": [
        "for numero in range(1, 11):\n",
        "  if numero % 2 != 0:\n",
        "    print(numero)"
      ]
    },
    {
      "cell_type": "code",
      "execution_count": null,
      "metadata": {
        "id": "P76RFBiyiQxG"
      },
      "outputs": [],
      "source": [
        "import random\n",
        "\n",
        "numero = random.randint(0,100)\n",
        "print(numero)"
      ]
    },
    {
      "cell_type": "code",
      "execution_count": null,
      "metadata": {
        "id": "HuQfWy8IjHOC"
      },
      "outputs": [],
      "source": [
        "print(\"MENU\")\n",
        "print()\n",
        "print(f\"1.Adicionar Tarefa\\n2.Remover Tarefa\\n3.Listar Tarefas\\n4.Sair \")\n",
        "while True:\n",
        "  match input(\"Escolha uma opção: \"):\n",
        "    case \"1\":\n",
        "        task = (input(\"Adicionar Tarefa: \"))\n",
        "        print(\"Tarefa Adicionada: \" +  task)\n",
        "    case \"2\":\n",
        "      print(\"Remover Tarefa: \" + task)\n",
        "      print(\"Tarefa Removida\")\n",
        "    case \"3\":\n",
        "      print(\"Listar Tarefas \" + task)\n",
        "    case \"4\":\n",
        "      print(\"Sair\")\n",
        "      break"
      ]
    },
    {
      "cell_type": "code",
      "source": [
        "notas = [ 6, 8, 5, 4, 7, 7, 9, 3, 6]\n",
        "menores = [nota for nota in notas if nota < 5]\n",
        "print(menores)"
      ],
      "metadata": {
        "id": "ciZ1cq0WaauM"
      },
      "execution_count": null,
      "outputs": []
    },
    {
      "cell_type": "code",
      "source": [
        "quadrados = [x**2 for x in range(10)]\n",
        "print(quadrados)"
      ],
      "metadata": {
        "id": "NTslIqXXbuss"
      },
      "execution_count": null,
      "outputs": []
    },
    {
      "cell_type": "code",
      "source": [
        "nome = 'Maihrendson'\n",
        "for letra in nome:\n",
        "  print(letra)\n",
        "print(len(nome))\n",
        "print(nome.upper())\n",
        "print(nome.lower())"
      ],
      "metadata": {
        "id": "016Xl2g4d5Bb"
      },
      "execution_count": null,
      "outputs": []
    },
    {
      "cell_type": "code",
      "source": [
        "nomes = ['Joao', 'Jó', 'Maira', 'Pedro', 'Wesley', 'Maihrendson', 'Madeixas']\n",
        "Ordem = [ nome for nome in nomes if len(nome) > 4 ]\n",
        "print(Ordem)\n"
      ],
      "metadata": {
        "id": "kWavJ53ueqkr"
      },
      "execution_count": null,
      "outputs": []
    },
    {
      "cell_type": "code",
      "source": [
        "nomes = ['Joao', 'Jó', 'Maira', 'Pedro', 'Wesley', 'Maihrendson', 'Madeixas']\n",
        "caixaAlta = [nome.upper() for nome in nomes if len(nome) <= 4 ]\n",
        "print(caixaAlta)"
      ],
      "metadata": {
        "id": "H8Ly8AD_hawM"
      },
      "execution_count": null,
      "outputs": []
    },
    {
      "cell_type": "code",
      "source": [
        "notas = [9.0, 4.5, 2.3, 6.0, 8.2, 5.3]\n",
        "Extras = [nota+2 for nota in notas if nota < 5]\n",
        "print(Extras)"
      ],
      "metadata": {
        "id": "pvueWo8sibq7"
      },
      "execution_count": null,
      "outputs": []
    },
    {
      "cell_type": "code",
      "source": [
        "metade = lambda a : a/2\n",
        "print (metade(10))"
      ],
      "metadata": {
        "id": "yEUcdCSmlVOg"
      },
      "execution_count": null,
      "outputs": []
    },
    {
      "cell_type": "code",
      "source": [
        "numeros = [ 2, 3, 4, 5, 6, 7]\n",
        "quadrados = list(map(lambda x: x**2, numeros))\n",
        "print(quadrados)"
      ],
      "metadata": {
        "id": "l4W8u_4cmFia"
      },
      "execution_count": null,
      "outputs": []
    },
    {
      "cell_type": "code",
      "source": [
        "nomes = ['Joao', 'Jó', 'Maira', 'Pedro', 'Wesley', 'Maihrendson', 'Madeixas']\n",
        "Filtro = list(filter(lambda x: len(x) > 4, nomes))\n",
        "print(Filtro)"
      ],
      "metadata": {
        "id": "ZZ9uBXqtnmRO"
      },
      "execution_count": null,
      "outputs": []
    },
    {
      "cell_type": "code",
      "source": [
        "Contagem = [ 1, 2, 3, 4, 5, 6, 7, 8, 9, 21, 10, 31, 53, 132, 45, 65, 75]\n",
        "Maiores10 = list(filter(lambda x: int(x) > 10, Contagem))\n",
        "print(Maiores10)"
      ],
      "metadata": {
        "id": "9H7gqTgKqboZ"
      },
      "execution_count": null,
      "outputs": []
    },
    {
      "cell_type": "code",
      "source": [
        "listados = [3,7,2,8,1,4,10]\n",
        "dobrar = list(map(lambda x: x*2, listados))\n",
        "print(dobrar)\n",
        "\n",
        "NumeroPar = list(filter(lambda x : x % 2 == 0, listados))\n",
        "print(NumeroPar)\n",
        "\n",
        "ParesImpares = list(map(lambda x: x*2 if x % 2 == 0 else x, listados))\n",
        "print(ParesImpares)"
      ],
      "metadata": {
        "id": "cv7Qz7hcrina"
      },
      "execution_count": null,
      "outputs": []
    }
  ],
  "metadata": {
    "colab": {
      "provenance": [],
      "authorship_tag": "ABX9TyMvPgKkPhD7Tr3maSr40ehk",
      "include_colab_link": true
    },
    "kernelspec": {
      "display_name": "Python 3",
      "name": "python3"
    },
    "language_info": {
      "name": "python"
    }
  },
  "nbformat": 4,
  "nbformat_minor": 0
}